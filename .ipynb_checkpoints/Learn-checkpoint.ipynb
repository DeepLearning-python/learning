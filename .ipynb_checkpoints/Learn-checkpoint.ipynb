{
 "cells": [
  {
   "cell_type": "markdown",
   "metadata": {},
   "source": [
    "# Topic Modeling"
   ]
  },
  {
   "cell_type": "markdown",
   "metadata": {},
   "source": [
    "1. Tutorial on GenSim, a tool for Topic Modelling https://www.youtube.com/playlist?list=PL7zYW7FHOfhgfFnfWXSFecQLU5bhUOR5j  <b> completed </b>\n",
    "2. Evaluation of Topic Modeling: Topic Coherence https://datascienceplus.com/evaluation-of-topic-modeling-topic-coherence/  <b> completed </b>\n",
    "3. Matti Lyra - Evaluating Topic Models https://www.youtube.com/watch?v=UkmIljRIG_M <b> completed </b>\n"
   ]
  },
  {
   "cell_type": "markdown",
   "metadata": {},
   "source": [
    "1. Natural Language Processing (Part 5): Topic Modeling with Latent Dirichlet Allocation in Python https://www.youtube.com/watch?v=NYkbqzTlW3w <b> completed </b>\n",
    "2. github link https://github.com/adashofdata/nlp-in-python-tutorial <b> completed </b>\n",
    "3. LDA Topic Models https://www.youtube.com/watch?v=3mHy4OSyRf0 <b> completed </b>\n",
    "4. Topic Models: Introduction (13a) https://www.youtube.com/watch?v=fCmIceNqVog <b> completed </b>"
   ]
  },
  {
   "cell_type": "markdown",
   "metadata": {},
   "source": [
    "Topic Modeling Tutorial (Latent Dirichlet Allocation) in Python https://www.youtube.com/watch?v=Y79sCtzddyA <b> completed </b>"
   ]
  },
  {
   "cell_type": "markdown",
   "metadata": {},
   "source": [
    "Bhargav Srinivasa Desikan - Topic Modelling (and more) with NLP framework Gensim https://www.youtube.com/watch?v=ZkAFJwi-G98 <b> completed </b>"
   ]
  },
  {
   "cell_type": "markdown",
   "metadata": {},
   "source": [
    "Lev Konstantinovskiy - Text similiarity with the next generation of word embeddings in Gensim https://www.youtube.com/watch?v=tAxrlAVw-Tk"
   ]
  },
  {
   "cell_type": "markdown",
   "metadata": {},
   "source": [
    "LDAvis: A method for visualizing and interpreting topic models https://www.youtube.com/watch?v=IksL96ls4o0"
   ]
  },
  {
   "cell_type": "markdown",
   "metadata": {},
   "source": [
    "Topic Modeling with Hotel Review Data https://www.youtube.com/watch?v=7lYRB27s9Oo"
   ]
  },
  {
   "cell_type": "markdown",
   "metadata": {},
   "source": [
    "LDA Algorithm Description https://www.youtube.com/watch?v=DWJYZq_fQ2A"
   ]
  },
  {
   "cell_type": "markdown",
   "metadata": {},
   "source": [
    "Topic Modeling with Python https://www.youtube.com/watch?v=BuMu-bdoVrU"
   ]
  },
  {
   "cell_type": "markdown",
   "metadata": {},
   "source": [
    "AWS re:Invent 2017: Tensors for Large-scale Topic Modeling and Deep Learning (MCL337) https://www.youtube.com/watch?v=mINfveR9VVE"
   ]
  },
  {
   "cell_type": "markdown",
   "metadata": {},
   "source": [
    "Gensim github \n",
    "https://github.com/RaRe-Technologies/gensim"
   ]
  },
  {
   "cell_type": "markdown",
   "metadata": {},
   "source": [
    "- SpaCy Python Tutorial https://www.youtube.com/playlist?list=PLJ39kWiJXSiz1LK8d_fyxb7FTn4mBYOsD\n",
    "- Training and Topic visualizations in gensim https://rare-technologies.com/paruls-gsoc-2017-summary-training-and-topic-visualizations-in-gensim/"
   ]
  },
  {
   "cell_type": "markdown",
   "metadata": {},
   "source": [
    "# Pytorch"
   ]
  },
  {
   "cell_type": "markdown",
   "metadata": {},
   "source": [
    "https://www.youtube.com/playlist?list=PLlMkM4tgfjnJ3I-dbhO9JTw7gNty6o_2m"
   ]
  },
  {
   "cell_type": "markdown",
   "metadata": {},
   "source": [
    "https://www.youtube.com/playlist?list=PLZbbT5o_s2xrfNyHZsM6ufI0iZENK9xgG"
   ]
  },
  {
   "cell_type": "markdown",
   "metadata": {},
   "source": [
    "# Fastai"
   ]
  },
  {
   "cell_type": "markdown",
   "metadata": {},
   "source": [
    "Computational Linear Algebra https://github.com/fastai/numerical-linear-algebra/blob/master/README.md"
   ]
  },
  {
   "cell_type": "markdown",
   "metadata": {},
   "source": [
    "https://www.youtube.com/playlist?list=PLtmWHNX-gukIc92m1K0P6bIOnZb-mg0hY"
   ]
  },
  {
   "cell_type": "markdown",
   "metadata": {},
   "source": [
    "Introduction to Machine Learning for Coders http://course18.fast.ai/ml"
   ]
  },
  {
   "cell_type": "markdown",
   "metadata": {},
   "source": [
    "Cutting Edge Deep Learning for Coders http://course18.fast.ai/index.html"
   ]
  },
  {
   "cell_type": "markdown",
   "metadata": {},
   "source": [
    "Practical Deep Learning for Coders https://course.fast.ai/"
   ]
  },
  {
   "cell_type": "markdown",
   "metadata": {},
   "source": [
    "# Learn Machine Learning in 3 Months (with curriculum)"
   ]
  },
  {
   "cell_type": "markdown",
   "metadata": {},
   "source": [
    "youtube https://www.youtube.com/watch?v=Cr6VqTRO1v0"
   ]
  },
  {
   "cell_type": "markdown",
   "metadata": {},
   "source": [
    "github https://github.com/llSourcell/Learn_Machine_Learning_in_3_Months"
   ]
  },
  {
   "cell_type": "markdown",
   "metadata": {},
   "source": [
    "Mathematics for Machine Learning full Course  https://www.youtube.com/playlist?list=PLmAuaUS7wSOP-iTNDivR0ANKuTUhEzMe4"
   ]
  },
  {
   "cell_type": "markdown",
   "metadata": {},
   "source": [
    "# Stanford NLP"
   ]
  },
  {
   "cell_type": "markdown",
   "metadata": {},
   "source": [
    "https://www.youtube.com/playlist?list=PLoROMvodv4rOhcuXMZkNm7j3fVwBBY42z"
   ]
  },
  {
   "cell_type": "markdown",
   "metadata": {},
   "source": [
    "NLP https://www.youtube.com/watch?v=3Dt_yh1mf_U&list=PLQiyVNMpDLKnZYBTUOlSI9mi9wAErFtFm"
   ]
  },
  {
   "cell_type": "markdown",
   "metadata": {},
   "source": [
    "# MIT Deeplearning"
   ]
  },
  {
   "cell_type": "markdown",
   "metadata": {},
   "source": [
    "https://www.youtube.com/playlist?list=PLtBw6njQRU-rwp5__7C0oIVt26ZgjG9NI"
   ]
  },
  {
   "cell_type": "markdown",
   "metadata": {},
   "source": [
    "- self driving car https://www.youtube.com/playlist?list=PLrAXtmErZgOeiKm4sgNOknGvNjby9efdf\n",
    "- MIT 6.S093: Introduction to Human-Centered Artificial Intelligence (AI) https://www.youtube.com/playlist?list=PLrAXtmErZgOeiKm4sgNOknGvNjby9efdf"
   ]
  },
  {
   "cell_type": "markdown",
   "metadata": {},
   "source": [
    "# NPTEL Deeplearning"
   ]
  },
  {
   "cell_type": "markdown",
   "metadata": {},
   "source": [
    "https://www.youtube.com/playlist?list=PLH-xYrxjfO2VsvyQXfBvsQsufAzvlqdg9"
   ]
  },
  {
   "cell_type": "markdown",
   "metadata": {},
   "source": [
    "# Stanford Deeplearning"
   ]
  },
  {
   "cell_type": "markdown",
   "metadata": {},
   "source": [
    "- Stanford CS230: Deep Learning | Autumn 2018 https://www.youtube.com/playlist?list=PLm4hZRdGlQQymAEbF4hQSx3GAKAaVbd1k"
   ]
  },
  {
   "cell_type": "markdown",
   "metadata": {},
   "source": [
    "# Stanford reinforcement Learning"
   ]
  },
  {
   "cell_type": "markdown",
   "metadata": {},
   "source": [
    "https://www.youtube.com/playlist?list=PLoROMvodv4rOSOPzutgyCTapiGlY2Nd8u"
   ]
  },
  {
   "cell_type": "markdown",
   "metadata": {},
   "source": [
    "# Interesting topics"
   ]
  },
  {
   "cell_type": "markdown",
   "metadata": {},
   "source": [
    "The wonderful and terrifying implications of computers that can learn | Jeremy Howard https://www.youtube.com/watch?v=t4kyRyKyOpo"
   ]
  },
  {
   "cell_type": "markdown",
   "metadata": {},
   "source": []
  },
  {
   "cell_type": "code",
   "execution_count": null,
   "metadata": {},
   "outputs": [],
   "source": []
  }
 ],
 "metadata": {
  "kernelspec": {
   "display_name": "Python 3",
   "language": "python",
   "name": "python3"
  },
  "language_info": {
   "codemirror_mode": {
    "name": "ipython",
    "version": 3
   },
   "file_extension": ".py",
   "mimetype": "text/x-python",
   "name": "python",
   "nbconvert_exporter": "python",
   "pygments_lexer": "ipython3",
   "version": "3.6.6"
  }
 },
 "nbformat": 4,
 "nbformat_minor": 2
}
